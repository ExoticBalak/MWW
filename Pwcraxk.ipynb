{
  "nbformat": 4,
  "nbformat_minor": 0,
  "metadata": {
    "colab": {
      "provenance": [],
      "authorship_tag": "ABX9TyO/uWiCBtqMj03E0Zj2S0M7",
      "include_colab_link": true
    },
    "kernelspec": {
      "name": "python3",
      "display_name": "Python 3"
    },
    "language_info": {
      "name": "python"
    }
  },
  "cells": [
    {
      "cell_type": "markdown",
      "metadata": {
        "id": "view-in-github",
        "colab_type": "text"
      },
      "source": [
        "<a href=\"https://colab.research.google.com/github/ExoticBalak/MWW/blob/main/Pwcraxk.ipynb\" target=\"_parent\"><img src=\"https://colab.research.google.com/assets/colab-badge.svg\" alt=\"Open In Colab\"/></a>"
      ]
    },
    {
      "cell_type": "code",
      "source": [
        "!pip install tqdm"
      ],
      "metadata": {
        "colab": {
          "base_uri": "https://localhost:8080/"
        },
        "id": "-t7Bv54L0pAp",
        "outputId": "9691260f-a3a3-4855-cd91-ec550e6e0c9f"
      },
      "execution_count": null,
      "outputs": [
        {
          "output_type": "stream",
          "name": "stdout",
          "text": [
            "Requirement already satisfied: tqdm in /usr/local/lib/python3.11/dist-packages (4.67.1)\n"
          ]
        }
      ]
    },
    {
      "cell_type": "code",
      "source": [
        "\n",
        "import zipfile\n",
        "from tqdm import tqdm\n",
        "\n",
        "zip_file = \"/content/k.zip\"\n",
        "\n",
        "def extract_zip(password):\n",
        "    try:\n",
        "        with zipfile.ZipFile(zip_file, 'r') as zf:\n",
        "            zf.extractall(path=\"/content/\", pwd=bytes(password, 'utf-8'))\n",
        "        return True\n",
        "    except:\n",
        "        return False\n",
        "\n",
        "# Try all 4-digit passwords (0000-9999)\n",
        "for i in tqdm(range(10000)):\n",
        "    password = str(i).zfill(4)  # Formats numbers as 0000, 0001, ..., 9999\n",
        "    if extract_zip(password):\n",
        "        print(f\"\\n✅ Password Found: {password}\")\n",
        "        break"
      ],
      "metadata": {
        "colab": {
          "base_uri": "https://localhost:8080/"
        },
        "collapsed": true,
        "id": "DzfEyuGj0sZJ",
        "outputId": "18d24e7b-4c5e-42df-9da1-e6af3bac19a5"
      },
      "execution_count": null,
      "outputs": [
        {
          "output_type": "stream",
          "name": "stderr",
          "text": [
            " 17%|█▋        | 1749/10000 [00:01<00:04, 1720.50it/s]"
          ]
        },
        {
          "output_type": "stream",
          "name": "stdout",
          "text": [
            "\n",
            "✅ Password Found: 1749\n"
          ]
        },
        {
          "output_type": "stream",
          "name": "stderr",
          "text": [
            "\n"
          ]
        }
      ]
    }
  ]
}